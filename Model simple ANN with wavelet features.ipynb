{
 "cells": [
  {
   "cell_type": "code",
   "execution_count": null,
   "id": "96a21acf",
   "metadata": {},
   "outputs": [],
   "source": []
  },
  {
   "cell_type": "code",
   "execution_count": 1,
   "id": "05083ff6",
   "metadata": {},
   "outputs": [
    {
     "name": "stdout",
     "output_type": "stream",
     "text": [
      "['Haar', 'Daubechies', 'Symlets', 'Coiflets', 'Biorthogonal', 'Reverse biorthogonal', 'Discrete Meyer (FIR Approximation)', 'Gaussian', 'Mexican hat wavelet', 'Morlet wavelet', 'Complex Gaussian wavelets', 'Shannon wavelets', 'Frequency B-Spline wavelets', 'Complex Morlet wavelets']\n"
     ]
    }
   ],
   "source": [
    "%matplotlib inline\n",
    "import librosa\n",
    "import librosa.display\n",
    "import IPython.display as ipd\n",
    "import os\n",
    "import pandas as pd\n",
    "import matplotlib.pyplot as plt\n",
    "import seaborn as sns\n",
    "import math\n",
    "import numpy as np\n",
    "from sklearn.preprocessing import LabelEncoder, StandardScaler\n",
    "from sklearn.model_selection import train_test_split\n",
    "from tensorflow.keras.layers import Input, Dense, Dropout\n",
    "from tensorflow.keras.models import Model\n",
    "from sklearn.metrics import classification_report\n",
    "import pywt\n",
    "print(pywt.families(short=False))\n",
    "from sklearn.model_selection import train_test_split\n",
    "from sklearn.ensemble import GradientBoostingClassifier\n",
    "from collections import Counter\n",
    "import scipy\n",
    "from sklearn.metrics import roc_auc_score\n",
    "pywt.wavelist('db')\n",
    "import tensorflow as tf"
   ]
  },
  {
   "cell_type": "markdown",
   "id": "ba257cd0",
   "metadata": {},
   "source": [
    "### Feature extraction method"
   ]
  },
  {
   "cell_type": "code",
   "execution_count": 2,
   "id": "c881c309",
   "metadata": {},
   "outputs": [],
   "source": [
    "def calculate_entropy(list_values):\n",
    "    counter_values = Counter(list_values).most_common()\n",
    "    probabilities = [elem[1]/len(list_values) for elem in counter_values]\n",
    "    entropy=scipy.stats.entropy(probabilities)\n",
    "    return entropy\n",
    " \n",
    "def calculate_statistics(list_values):\n",
    "    n5 = np.nanpercentile(list_values, 5)\n",
    "    n25 = np.nanpercentile(list_values, 25)\n",
    "    n75 = np.nanpercentile(list_values, 75)\n",
    "    n95 = np.nanpercentile(list_values, 95)\n",
    "    median = np.nanpercentile(list_values, 50)\n",
    "    mean = np.nanmean(list_values)\n",
    "    std = np.nanstd(list_values)\n",
    "    var = np.nanvar(list_values)\n",
    "    rms = np.nanmean(np.sqrt(list_values**2))\n",
    "    return [n5, n25, n75, n95, median, mean, std, var, rms]\n",
    " \n",
    "def calculate_crossings(list_values):\n",
    "    zero_crossing_indices = np.nonzero(np.diff(np.array(list_values) > 0))[0]\n",
    "    no_zero_crossings = len(zero_crossing_indices)\n",
    "    mean_crossing_indices = np.nonzero(np.diff(np.array(list_values) > np.nanmean(list_values)))[0]\n",
    "    no_mean_crossings = len(mean_crossing_indices)\n",
    "    return [no_zero_crossings, no_mean_crossings]\n",
    " \n",
    "def get_features(list_values):\n",
    "    entropy = calculate_entropy(list_values)\n",
    "    crossings = calculate_crossings(list_values)\n",
    "    statistics = calculate_statistics(list_values)\n",
    "    return [entropy] + crossings + statistics\n",
    "\n",
    "def get_audio_features(df, waveletname):\n",
    "    list_features = []\n",
    "    for audio_file in df['filepath']:\n",
    "        signal=librosa.load(audio_file, sr=None)[0]\n",
    "        list_coeff = pywt.wavedec(signal, waveletname)\n",
    "        features = []\n",
    "        for coeff in list_coeff:\n",
    "            features += get_features(coeff)\n",
    "        list_features.append(features)\n",
    "    return pd.DataFrame(list_features)"
   ]
  },
  {
   "cell_type": "markdown",
   "id": "9a9bba45",
   "metadata": {},
   "source": [
    "### Import data method"
   ]
  },
  {
   "cell_type": "code",
   "execution_count": 3,
   "id": "10eaa2c1",
   "metadata": {},
   "outputs": [],
   "source": [
    "PATH_TRAINING_DATASET = './Datasets/Training/'\n",
    "PATH_ADDITIONNAL_DATASET = './Datasets/Additionnal/'\n",
    "\n",
    "#Get list of files in train and test directory\n",
    "def get_df_files(type_machinery):\n",
    "\n",
    "\n",
    "    path_train_folder = PATH_TRAINING_DATASET + 'dev_' + type_machinery + '/' + type_machinery + '/train/'\n",
    "    path_test_folder = PATH_TRAINING_DATASET + 'dev_' + type_machinery + '/' + type_machinery + '/test/'\n",
    "\n",
    "    train_files = [f for f in os.listdir(path_train_folder)]\n",
    "    test_files = [f for f in os.listdir(path_test_folder)]\n",
    "\n",
    "    #Get list of dictionnary for creating DataFrame\n",
    "    list_dict_file = []\n",
    "\n",
    "    #Loop through filenames\n",
    "    for filename in train_files:\n",
    "\n",
    "        #Get filename as list of string\n",
    "        splitted_filename = filename.split('_')\n",
    "\n",
    "        #Append dictionnary to list\n",
    "        list_dict_file.append({\n",
    "            'filepath' : path_train_folder + filename,\n",
    "            'filename' : filename,\n",
    "            'section' : int(splitted_filename[1]),\n",
    "            'domain_env' : splitted_filename[2],\n",
    "            'dir' : splitted_filename[3],\n",
    "            'sound_type' : splitted_filename[4],\n",
    "            'id' : splitted_filename[5],\n",
    "            'suffix' : '_'.join(splitted_filename[6:]).split('.wav')[0]\n",
    "        })\n",
    "\n",
    "    #Loop through filenames\n",
    "    for filename in test_files:\n",
    "\n",
    "        #Get filename as list of string\n",
    "        splitted_filename = filename.split('_')\n",
    "\n",
    "        #Append dictionnary to list\n",
    "        list_dict_file.append({\n",
    "            'filepath' : path_test_folder + filename,\n",
    "            'filename' : filename,\n",
    "            'section' : int(splitted_filename[1]),\n",
    "            'domain_env' : splitted_filename[2],\n",
    "            'dir' : splitted_filename[3],\n",
    "            'sound_type' : splitted_filename[4],\n",
    "            'id' : splitted_filename[5],\n",
    "            'suffix' : '_'.join(splitted_filename[6:]).split('.wav')[0]\n",
    "        })\n",
    "\n",
    "    #Get file dataframe\n",
    "    df_files = pd.DataFrame(list_dict_file)\n",
    "    \n",
    "    return df_files"
   ]
  },
  {
   "cell_type": "markdown",
   "id": "276e4ff9",
   "metadata": {},
   "source": [
    "# Valve\n",
    "\n",
    "## Get df of features"
   ]
  },
  {
   "cell_type": "code",
   "execution_count": 4,
   "id": "577edaf5",
   "metadata": {},
   "outputs": [
    {
     "data": {
      "text/plain": [
       "(750, 10)"
      ]
     },
     "execution_count": 4,
     "metadata": {},
     "output_type": "execute_result"
    }
   ],
   "source": [
    "#Get df files\n",
    "df = get_df_files('valve')\n",
    "df['target'] = df['sound_type'].replace(['normal', 'anomaly'], [0, 1])\n",
    "\n",
    "#Encode suffix label\n",
    "label_encoder = LabelEncoder()\n",
    "df['suffix_as_int'] = label_encoder.fit_transform(df['suffix'])\n",
    "\n",
    "#Take 150 normal rows section 0\n",
    "normal_sect_0 = df[((df['section'] == 0 ) & (df['sound_type'] == 'normal' ))].sample(n=150, weights='suffix_as_int')\n",
    "\n",
    "#Take 150 normal rows section 1\n",
    "normal_sect_1 = df[((df['section'] == 1 ) & (df['sound_type'] == 'normal' ))].sample(n=150, weights='suffix_as_int')\n",
    "\n",
    "#Take 150 normal rows section 2\n",
    "normal_sect_2 = df[((df['section'] == 2 ) & (df['sound_type'] == 'normal' ))].sample(n=150, weights='suffix_as_int')\n",
    "\n",
    "#Take the 300 anormal rows (100 for each section)\n",
    "anormal = df[df['sound_type'] == 'anomaly']\n",
    "\n",
    "#Concat together\n",
    "df_selected = pd.concat([normal_sect_0, normal_sect_1, normal_sect_2, anormal])\n",
    "df_selected.shape"
   ]
  },
  {
   "cell_type": "code",
   "execution_count": 5,
   "id": "03ccd737",
   "metadata": {},
   "outputs": [],
   "source": [
    "#Let's get train and test dataset\n",
    "X_train,X_test,y_train,y_test = train_test_split(get_audio_features(df_selected, 'db8'), \n",
    "                                                 df_selected['target'],test_size=0.2) # change 'db8' for other type of wavelets"
   ]
  },
  {
   "cell_type": "code",
   "execution_count": 6,
   "id": "92c61f6a",
   "metadata": {},
   "outputs": [
    {
     "data": {
      "text/plain": [
       "(600, 168)"
      ]
     },
     "execution_count": 6,
     "metadata": {},
     "output_type": "execute_result"
    }
   ],
   "source": [
    "X_train.shape"
   ]
  },
  {
   "cell_type": "markdown",
   "id": "40edbbb6",
   "metadata": {},
   "source": [
    "## Model initialization"
   ]
  },
  {
   "cell_type": "code",
   "execution_count": 11,
   "id": "7627d96f",
   "metadata": {},
   "outputs": [
    {
     "name": "stdout",
     "output_type": "stream",
     "text": [
      "Model: \"model_1\"\n",
      "_________________________________________________________________\n",
      " Layer (type)                Output Shape              Param #   \n",
      "=================================================================\n",
      " Inputs (InputLayer)         [(None, 168)]             0         \n",
      "                                                                 \n",
      " First_layer (Dense)         (None, 64)                10816     \n",
      "                                                                 \n",
      " Second_layer (Dense)        (None, 64)                4160      \n",
      "                                                                 \n",
      " Output_layer (Dense)        (None, 1)                 65        \n",
      "                                                                 \n",
      "=================================================================\n",
      "Total params: 15,041\n",
      "Trainable params: 15,041\n",
      "Non-trainable params: 0\n",
      "_________________________________________________________________\n"
     ]
    }
   ],
   "source": [
    "#Initializaiton of the layers\n",
    "inputs = Input(shape=X_train.shape[1], name='Inputs')\n",
    "first_layer = Dense(64, activation='relu', kernel_initializer ='normal', name='First_layer')\n",
    "second_layer = Dense(64, activation='relu', kernel_initializer ='normal', name='Second_layer')\n",
    "third_layer = Dense(1, activation='sigmoid', kernel_initializer ='normal', name='Output_layer')\n",
    "\n",
    "#Construct the layer's order\n",
    "x = first_layer(inputs)\n",
    "x = second_layer(x)\n",
    "outputs = third_layer(x)\n",
    "\n",
    "#Initialize the model\n",
    "model = Model(inputs=inputs, outputs=outputs)\n",
    "model.summary()\n",
    "\n",
    "#Compile the model\n",
    "model.compile(loss='binary_crossentropy', optimizer='adam', metrics=['accuracy'])"
   ]
  },
  {
   "cell_type": "markdown",
   "id": "7d31def0",
   "metadata": {},
   "source": [
    "## Model Training"
   ]
  },
  {
   "cell_type": "code",
   "execution_count": 12,
   "id": "922ad464",
   "metadata": {},
   "outputs": [
    {
     "name": "stdout",
     "output_type": "stream",
     "text": [
      "Epoch 1/100\n",
      "16/16 [==============================] - 0s 10ms/step - loss: 88.9247 - accuracy: 0.5167 - val_loss: 52.3990 - val_accuracy: 0.5583\n",
      "Epoch 2/100\n",
      "16/16 [==============================] - 0s 5ms/step - loss: 19.4193 - accuracy: 0.5271 - val_loss: 11.5906 - val_accuracy: 0.4417\n",
      "Epoch 3/100\n",
      "16/16 [==============================] - 0s 5ms/step - loss: 4.6283 - accuracy: 0.5271 - val_loss: 1.9068 - val_accuracy: 0.5500\n",
      "Epoch 4/100\n",
      "16/16 [==============================] - 0s 5ms/step - loss: 1.7764 - accuracy: 0.5375 - val_loss: 3.4701 - val_accuracy: 0.5583\n",
      "Epoch 5/100\n",
      "16/16 [==============================] - 0s 5ms/step - loss: 4.9097 - accuracy: 0.5521 - val_loss: 7.7456 - val_accuracy: 0.5583\n",
      "Epoch 6/100\n",
      "16/16 [==============================] - 0s 5ms/step - loss: 6.9470 - accuracy: 0.5500 - val_loss: 6.7063 - val_accuracy: 0.5583\n",
      "Epoch 7/100\n",
      "16/16 [==============================] - 0s 5ms/step - loss: 3.3009 - accuracy: 0.5396 - val_loss: 4.1689 - val_accuracy: 0.4417\n",
      "Epoch 8/100\n",
      "16/16 [==============================] - 0s 5ms/step - loss: 2.2202 - accuracy: 0.4979 - val_loss: 2.3616 - val_accuracy: 0.4417\n",
      "Epoch 9/100\n",
      "16/16 [==============================] - 0s 5ms/step - loss: 3.3422 - accuracy: 0.5354 - val_loss: 5.1386 - val_accuracy: 0.4417\n",
      "Epoch 10/100\n",
      "16/16 [==============================] - 0s 4ms/step - loss: 5.4775 - accuracy: 0.5042 - val_loss: 5.7548 - val_accuracy: 0.5583\n",
      "Epoch 11/100\n",
      "16/16 [==============================] - 0s 5ms/step - loss: 3.7454 - accuracy: 0.5292 - val_loss: 8.6262 - val_accuracy: 0.5583\n",
      "Epoch 12/100\n",
      "16/16 [==============================] - 0s 5ms/step - loss: 4.3932 - accuracy: 0.5104 - val_loss: 0.9927 - val_accuracy: 0.5167\n",
      "Epoch 13/100\n",
      "16/16 [==============================] - 0s 5ms/step - loss: 1.2919 - accuracy: 0.5375 - val_loss: 3.3960 - val_accuracy: 0.5583\n",
      "Epoch 14/100\n",
      "16/16 [==============================] - 0s 5ms/step - loss: 3.7972 - accuracy: 0.4958 - val_loss: 4.7691 - val_accuracy: 0.5583\n",
      "Epoch 15/100\n",
      "16/16 [==============================] - 0s 5ms/step - loss: 3.9636 - accuracy: 0.5167 - val_loss: 5.5803 - val_accuracy: 0.5583\n",
      "Epoch 16/100\n",
      "16/16 [==============================] - 0s 4ms/step - loss: 6.9524 - accuracy: 0.5125 - val_loss: 2.9856 - val_accuracy: 0.5417\n",
      "Epoch 17/100\n",
      "16/16 [==============================] - 0s 5ms/step - loss: 2.9339 - accuracy: 0.5625 - val_loss: 1.4827 - val_accuracy: 0.5500\n",
      "Epoch 18/100\n",
      "16/16 [==============================] - 0s 4ms/step - loss: 1.2626 - accuracy: 0.5292 - val_loss: 3.1974 - val_accuracy: 0.5583\n",
      "Epoch 19/100\n",
      "16/16 [==============================] - 0s 5ms/step - loss: 1.6090 - accuracy: 0.5229 - val_loss: 0.9064 - val_accuracy: 0.5417\n",
      "Epoch 20/100\n",
      "16/16 [==============================] - 0s 5ms/step - loss: 1.6535 - accuracy: 0.5479 - val_loss: 2.8824 - val_accuracy: 0.5583\n",
      "Epoch 21/100\n",
      "16/16 [==============================] - 0s 5ms/step - loss: 2.0847 - accuracy: 0.5208 - val_loss: 2.0502 - val_accuracy: 0.5583\n",
      "Epoch 22/100\n",
      "16/16 [==============================] - 0s 6ms/step - loss: 2.5672 - accuracy: 0.5104 - val_loss: 0.8253 - val_accuracy: 0.5500\n",
      "Epoch 23/100\n",
      "16/16 [==============================] - 0s 5ms/step - loss: 1.4058 - accuracy: 0.5312 - val_loss: 1.7074 - val_accuracy: 0.5583\n",
      "Epoch 24/100\n",
      "16/16 [==============================] - 0s 6ms/step - loss: 1.3904 - accuracy: 0.5104 - val_loss: 1.7242 - val_accuracy: 0.4333\n",
      "Epoch 25/100\n",
      "16/16 [==============================] - 0s 5ms/step - loss: 1.4462 - accuracy: 0.5271 - val_loss: 1.5817 - val_accuracy: 0.4333\n",
      "Epoch 26/100\n",
      "16/16 [==============================] - 0s 6ms/step - loss: 1.2671 - accuracy: 0.5125 - val_loss: 0.7731 - val_accuracy: 0.5500\n",
      "Epoch 27/100\n",
      "16/16 [==============================] - 0s 5ms/step - loss: 1.2554 - accuracy: 0.5521 - val_loss: 2.4300 - val_accuracy: 0.5583\n",
      "Epoch 28/100\n",
      "16/16 [==============================] - 0s 5ms/step - loss: 1.8973 - accuracy: 0.5146 - val_loss: 2.4399 - val_accuracy: 0.5583\n",
      "Epoch 29/100\n",
      "16/16 [==============================] - 0s 5ms/step - loss: 1.9943 - accuracy: 0.5125 - val_loss: 0.7587 - val_accuracy: 0.5167\n",
      "Epoch 30/100\n",
      "16/16 [==============================] - 0s 5ms/step - loss: 1.9059 - accuracy: 0.5271 - val_loss: 2.1578 - val_accuracy: 0.4417\n",
      "Epoch 31/100\n",
      "16/16 [==============================] - 0s 5ms/step - loss: 2.6615 - accuracy: 0.4854 - val_loss: 1.2617 - val_accuracy: 0.5500\n",
      "Epoch 32/100\n",
      "16/16 [==============================] - 0s 5ms/step - loss: 1.5512 - accuracy: 0.5000 - val_loss: 0.7571 - val_accuracy: 0.4583\n",
      "Epoch 33/100\n",
      "16/16 [==============================] - 0s 6ms/step - loss: 1.1669 - accuracy: 0.5188 - val_loss: 0.9251 - val_accuracy: 0.4417\n",
      "Epoch 34/100\n",
      "16/16 [==============================] - 0s 5ms/step - loss: 1.3364 - accuracy: 0.5354 - val_loss: 1.9269 - val_accuracy: 0.4417\n",
      "Epoch 35/100\n",
      "16/16 [==============================] - 0s 5ms/step - loss: 1.3310 - accuracy: 0.5188 - val_loss: 1.0609 - val_accuracy: 0.4417\n",
      "Epoch 36/100\n",
      "16/16 [==============================] - 0s 4ms/step - loss: 2.4807 - accuracy: 0.5125 - val_loss: 3.7926 - val_accuracy: 0.5583\n",
      "Epoch 37/100\n",
      "16/16 [==============================] - 0s 5ms/step - loss: 3.1422 - accuracy: 0.5417 - val_loss: 3.1154 - val_accuracy: 0.4417\n",
      "Epoch 38/100\n",
      "16/16 [==============================] - 0s 5ms/step - loss: 2.8058 - accuracy: 0.5021 - val_loss: 5.1341 - val_accuracy: 0.4417\n",
      "Epoch 39/100\n",
      "16/16 [==============================] - 0s 4ms/step - loss: 2.7651 - accuracy: 0.5333 - val_loss: 1.5535 - val_accuracy: 0.4333\n",
      "Epoch 40/100\n",
      "16/16 [==============================] - 0s 4ms/step - loss: 1.9624 - accuracy: 0.5229 - val_loss: 1.1999 - val_accuracy: 0.5583\n",
      "Epoch 41/100\n",
      "16/16 [==============================] - 0s 5ms/step - loss: 2.2700 - accuracy: 0.5146 - val_loss: 0.8434 - val_accuracy: 0.5500\n",
      "Epoch 42/100\n",
      "16/16 [==============================] - 0s 4ms/step - loss: 1.7459 - accuracy: 0.5083 - val_loss: 2.1066 - val_accuracy: 0.5583\n",
      "Epoch 43/100\n",
      "16/16 [==============================] - 0s 4ms/step - loss: 1.3147 - accuracy: 0.5125 - val_loss: 0.9422 - val_accuracy: 0.5583\n",
      "Epoch 44/100\n",
      "16/16 [==============================] - 0s 5ms/step - loss: 0.8956 - accuracy: 0.5521 - val_loss: 0.7299 - val_accuracy: 0.4667\n",
      "Epoch 45/100\n",
      "16/16 [==============================] - 0s 5ms/step - loss: 0.8665 - accuracy: 0.5354 - val_loss: 0.7513 - val_accuracy: 0.5500\n",
      "Epoch 46/100\n",
      "16/16 [==============================] - 0s 6ms/step - loss: 0.7800 - accuracy: 0.5604 - val_loss: 1.3157 - val_accuracy: 0.5583\n",
      "Epoch 47/100\n",
      "16/16 [==============================] - 0s 5ms/step - loss: 1.0412 - accuracy: 0.5354 - val_loss: 0.7414 - val_accuracy: 0.5583\n",
      "Epoch 48/100\n",
      "16/16 [==============================] - 0s 4ms/step - loss: 2.1010 - accuracy: 0.5271 - val_loss: 3.7300 - val_accuracy: 0.4417\n",
      "Epoch 49/100\n",
      "16/16 [==============================] - 0s 5ms/step - loss: 1.5558 - accuracy: 0.5562 - val_loss: 1.0684 - val_accuracy: 0.5583\n",
      "Epoch 50/100\n",
      "16/16 [==============================] - 0s 5ms/step - loss: 1.1380 - accuracy: 0.5583 - val_loss: 1.7193 - val_accuracy: 0.4417\n",
      "Epoch 51/100\n",
      "16/16 [==============================] - 0s 5ms/step - loss: 1.2666 - accuracy: 0.5479 - val_loss: 0.9264 - val_accuracy: 0.5500\n",
      "Epoch 52/100\n",
      "16/16 [==============================] - 0s 5ms/step - loss: 1.8642 - accuracy: 0.5333 - val_loss: 0.7275 - val_accuracy: 0.5250\n",
      "Epoch 53/100\n",
      "16/16 [==============================] - 0s 5ms/step - loss: 0.8763 - accuracy: 0.5375 - val_loss: 1.0731 - val_accuracy: 0.5583\n",
      "Epoch 54/100\n",
      "16/16 [==============================] - 0s 5ms/step - loss: 1.0607 - accuracy: 0.5354 - val_loss: 1.7772 - val_accuracy: 0.4417\n",
      "Epoch 55/100\n",
      "16/16 [==============================] - 0s 5ms/step - loss: 1.0054 - accuracy: 0.5417 - val_loss: 1.4127 - val_accuracy: 0.5583\n",
      "Epoch 56/100\n",
      "16/16 [==============================] - 0s 5ms/step - loss: 1.7345 - accuracy: 0.5458 - val_loss: 1.0249 - val_accuracy: 0.5583\n",
      "Epoch 57/100\n",
      "16/16 [==============================] - 0s 5ms/step - loss: 1.1280 - accuracy: 0.5917 - val_loss: 1.4749 - val_accuracy: 0.5583\n",
      "Epoch 58/100\n",
      "16/16 [==============================] - 0s 5ms/step - loss: 1.0040 - accuracy: 0.5417 - val_loss: 0.7321 - val_accuracy: 0.4167\n"
     ]
    },
    {
     "name": "stdout",
     "output_type": "stream",
     "text": [
      "Epoch 59/100\n",
      "16/16 [==============================] - 0s 5ms/step - loss: 1.2925 - accuracy: 0.5063 - val_loss: 2.1821 - val_accuracy: 0.4417\n",
      "Epoch 60/100\n",
      "16/16 [==============================] - 0s 5ms/step - loss: 1.4896 - accuracy: 0.5354 - val_loss: 0.9765 - val_accuracy: 0.5417\n",
      "Epoch 61/100\n",
      "16/16 [==============================] - 0s 4ms/step - loss: 1.2299 - accuracy: 0.5354 - val_loss: 1.7378 - val_accuracy: 0.4417\n",
      "Epoch 62/100\n",
      "16/16 [==============================] - 0s 5ms/step - loss: 1.5703 - accuracy: 0.5083 - val_loss: 1.6987 - val_accuracy: 0.5583\n",
      "Epoch 63/100\n",
      "16/16 [==============================] - 0s 4ms/step - loss: 1.2424 - accuracy: 0.5208 - val_loss: 2.3138 - val_accuracy: 0.5583\n",
      "Epoch 64/100\n",
      "16/16 [==============================] - 0s 5ms/step - loss: 1.4945 - accuracy: 0.5500 - val_loss: 0.9245 - val_accuracy: 0.5583\n",
      "Epoch 65/100\n",
      "16/16 [==============================] - 0s 5ms/step - loss: 0.8414 - accuracy: 0.5604 - val_loss: 1.3256 - val_accuracy: 0.5583\n",
      "Epoch 66/100\n",
      "16/16 [==============================] - 0s 5ms/step - loss: 0.8923 - accuracy: 0.5292 - val_loss: 0.6996 - val_accuracy: 0.4917\n",
      "Epoch 67/100\n",
      "16/16 [==============================] - 0s 5ms/step - loss: 0.9102 - accuracy: 0.5521 - val_loss: 2.2951 - val_accuracy: 0.5583\n",
      "Epoch 68/100\n",
      "16/16 [==============================] - 0s 5ms/step - loss: 1.8625 - accuracy: 0.5354 - val_loss: 3.6130 - val_accuracy: 0.5583\n",
      "Epoch 69/100\n",
      "16/16 [==============================] - 0s 5ms/step - loss: 1.4236 - accuracy: 0.5437 - val_loss: 0.7738 - val_accuracy: 0.4250\n",
      "Epoch 70/100\n",
      "16/16 [==============================] - 0s 5ms/step - loss: 0.8128 - accuracy: 0.5271 - val_loss: 0.7790 - val_accuracy: 0.5583\n",
      "Epoch 71/100\n",
      "16/16 [==============================] - 0s 5ms/step - loss: 0.7789 - accuracy: 0.5562 - val_loss: 0.7423 - val_accuracy: 0.5583\n",
      "Epoch 72/100\n",
      "16/16 [==============================] - 0s 5ms/step - loss: 0.9478 - accuracy: 0.5167 - val_loss: 0.7419 - val_accuracy: 0.4250\n",
      "Epoch 73/100\n",
      "16/16 [==============================] - 0s 5ms/step - loss: 1.1303 - accuracy: 0.5000 - val_loss: 0.7408 - val_accuracy: 0.5917\n",
      "Epoch 74/100\n",
      "16/16 [==============================] - 0s 4ms/step - loss: 1.1955 - accuracy: 0.5542 - val_loss: 0.9503 - val_accuracy: 0.5583\n",
      "Epoch 75/100\n",
      "16/16 [==============================] - 0s 5ms/step - loss: 2.1735 - accuracy: 0.5208 - val_loss: 3.4872 - val_accuracy: 0.5583\n",
      "Epoch 76/100\n",
      "16/16 [==============================] - 0s 5ms/step - loss: 3.8905 - accuracy: 0.5312 - val_loss: 2.2851 - val_accuracy: 0.5583\n",
      "Epoch 77/100\n",
      "16/16 [==============================] - 0s 5ms/step - loss: 1.6936 - accuracy: 0.5375 - val_loss: 1.7467 - val_accuracy: 0.5583\n",
      "Epoch 78/100\n",
      "16/16 [==============================] - 0s 4ms/step - loss: 1.4835 - accuracy: 0.5333 - val_loss: 2.4644 - val_accuracy: 0.5583\n",
      "Epoch 79/100\n",
      "16/16 [==============================] - 0s 5ms/step - loss: 1.6784 - accuracy: 0.5104 - val_loss: 2.1640 - val_accuracy: 0.5583\n",
      "Epoch 80/100\n",
      "16/16 [==============================] - 0s 5ms/step - loss: 1.3886 - accuracy: 0.5250 - val_loss: 0.7257 - val_accuracy: 0.4667\n",
      "Epoch 81/100\n",
      "16/16 [==============================] - 0s 5ms/step - loss: 0.7665 - accuracy: 0.5542 - val_loss: 0.7973 - val_accuracy: 0.4250\n",
      "Epoch 82/100\n",
      "16/16 [==============================] - 0s 5ms/step - loss: 1.2319 - accuracy: 0.5104 - val_loss: 2.3737 - val_accuracy: 0.5583\n",
      "Epoch 83/100\n",
      "16/16 [==============================] - 0s 4ms/step - loss: 1.2116 - accuracy: 0.5625 - val_loss: 1.1534 - val_accuracy: 0.5583\n",
      "Epoch 84/100\n",
      "16/16 [==============================] - 0s 5ms/step - loss: 1.2277 - accuracy: 0.4979 - val_loss: 0.7624 - val_accuracy: 0.4417\n",
      "Epoch 85/100\n",
      "16/16 [==============================] - 0s 5ms/step - loss: 0.8451 - accuracy: 0.5354 - val_loss: 0.8983 - val_accuracy: 0.4417\n",
      "Epoch 86/100\n",
      "16/16 [==============================] - 0s 5ms/step - loss: 1.4732 - accuracy: 0.4958 - val_loss: 1.3439 - val_accuracy: 0.5583\n",
      "Epoch 87/100\n",
      "16/16 [==============================] - 0s 5ms/step - loss: 0.9067 - accuracy: 0.5479 - val_loss: 0.8589 - val_accuracy: 0.5583\n",
      "Epoch 88/100\n",
      "16/16 [==============================] - 0s 5ms/step - loss: 0.9263 - accuracy: 0.5479 - val_loss: 1.2560 - val_accuracy: 0.5583\n",
      "Epoch 89/100\n",
      "16/16 [==============================] - 0s 5ms/step - loss: 1.0548 - accuracy: 0.4979 - val_loss: 0.9418 - val_accuracy: 0.5583\n",
      "Epoch 90/100\n",
      "16/16 [==============================] - 0s 5ms/step - loss: 1.0951 - accuracy: 0.5562 - val_loss: 0.7621 - val_accuracy: 0.5583\n",
      "Epoch 91/100\n",
      "16/16 [==============================] - 0s 5ms/step - loss: 0.9281 - accuracy: 0.5500 - val_loss: 1.4509 - val_accuracy: 0.4417\n",
      "Epoch 92/100\n",
      "16/16 [==============================] - 0s 5ms/step - loss: 1.0656 - accuracy: 0.5583 - val_loss: 1.0968 - val_accuracy: 0.4417\n",
      "Epoch 93/100\n",
      "16/16 [==============================] - 0s 5ms/step - loss: 2.1923 - accuracy: 0.5063 - val_loss: 4.4668 - val_accuracy: 0.5583\n",
      "Epoch 94/100\n",
      "16/16 [==============================] - 0s 5ms/step - loss: 2.0636 - accuracy: 0.5188 - val_loss: 1.9463 - val_accuracy: 0.4417\n",
      "Epoch 95/100\n",
      "16/16 [==============================] - 0s 4ms/step - loss: 1.4060 - accuracy: 0.5208 - val_loss: 0.9750 - val_accuracy: 0.4417\n",
      "Epoch 96/100\n",
      "16/16 [==============================] - 0s 5ms/step - loss: 0.9997 - accuracy: 0.5500 - val_loss: 0.7469 - val_accuracy: 0.5500\n",
      "Epoch 97/100\n",
      "16/16 [==============================] - 0s 5ms/step - loss: 0.7268 - accuracy: 0.5354 - val_loss: 0.7061 - val_accuracy: 0.5083\n",
      "Epoch 98/100\n",
      "16/16 [==============================] - 0s 5ms/step - loss: 0.8370 - accuracy: 0.5708 - val_loss: 0.7379 - val_accuracy: 0.4583\n",
      "Epoch 99/100\n",
      "16/16 [==============================] - 0s 5ms/step - loss: 1.2063 - accuracy: 0.4875 - val_loss: 0.7675 - val_accuracy: 0.5583\n",
      "Epoch 100/100\n",
      "16/16 [==============================] - 0s 5ms/step - loss: 0.7873 - accuracy: 0.5625 - val_loss: 1.0089 - val_accuracy: 0.5583\n"
     ]
    },
    {
     "data": {
      "text/plain": [
       "<keras.callbacks.History at 0x1467c84aac0>"
      ]
     },
     "execution_count": 12,
     "metadata": {},
     "output_type": "execute_result"
    }
   ],
   "source": [
    "model.fit(X_train, y_train, epochs=100, batch_size=30, validation_split=0.2)"
   ]
  },
  {
   "cell_type": "markdown",
   "id": "f76254d7",
   "metadata": {},
   "source": [
    "## Evaluation"
   ]
  },
  {
   "cell_type": "code",
   "execution_count": 13,
   "id": "a476f9b7",
   "metadata": {},
   "outputs": [
    {
     "name": "stdout",
     "output_type": "stream",
     "text": [
      "              precision    recall  f1-score   support\n",
      "\n",
      "           0       0.59      1.00      0.74        89\n",
      "           1       0.00      0.00      0.00        61\n",
      "\n",
      "    accuracy                           0.59       150\n",
      "   macro avg       0.30      0.50      0.37       150\n",
      "weighted avg       0.35      0.59      0.44       150\n",
      "\n"
     ]
    },
    {
     "name": "stderr",
     "output_type": "stream",
     "text": [
      "C:\\Users\\Quentin\\anaconda3\\envs\\tensorflow_keras\\lib\\site-packages\\sklearn\\metrics\\_classification.py:1318: UndefinedMetricWarning: Precision and F-score are ill-defined and being set to 0.0 in labels with no predicted samples. Use `zero_division` parameter to control this behavior.\n",
      "  _warn_prf(average, modifier, msg_start, len(result))\n",
      "C:\\Users\\Quentin\\anaconda3\\envs\\tensorflow_keras\\lib\\site-packages\\sklearn\\metrics\\_classification.py:1318: UndefinedMetricWarning: Precision and F-score are ill-defined and being set to 0.0 in labels with no predicted samples. Use `zero_division` parameter to control this behavior.\n",
      "  _warn_prf(average, modifier, msg_start, len(result))\n",
      "C:\\Users\\Quentin\\anaconda3\\envs\\tensorflow_keras\\lib\\site-packages\\sklearn\\metrics\\_classification.py:1318: UndefinedMetricWarning: Precision and F-score are ill-defined and being set to 0.0 in labels with no predicted samples. Use `zero_division` parameter to control this behavior.\n",
      "  _warn_prf(average, modifier, msg_start, len(result))\n"
     ]
    }
   ],
   "source": [
    "test_pred = model.predict(X_test)\n",
    "test_pred_class = test_pred.argmax(axis=1)\n",
    "\n",
    "print(classification_report(y_test, test_pred_class))"
   ]
  },
  {
   "cell_type": "code",
   "execution_count": null,
   "id": "a39b338a",
   "metadata": {},
   "outputs": [],
   "source": []
  }
 ],
 "metadata": {
  "kernelspec": {
   "display_name": "Python 3 (ipykernel)",
   "language": "python",
   "name": "python3"
  },
  "language_info": {
   "codemirror_mode": {
    "name": "ipython",
    "version": 3
   },
   "file_extension": ".py",
   "mimetype": "text/x-python",
   "name": "python",
   "nbconvert_exporter": "python",
   "pygments_lexer": "ipython3",
   "version": "3.8.13"
  }
 },
 "nbformat": 4,
 "nbformat_minor": 5
}
