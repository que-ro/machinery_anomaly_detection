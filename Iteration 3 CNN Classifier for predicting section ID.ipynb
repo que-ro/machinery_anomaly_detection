{
 "cells": [
  {
   "cell_type": "markdown",
   "id": "47207e08",
   "metadata": {},
   "source": [
    "The goal of this notebook is to train a CNN classifier for each type of machine to learn to distinct the different section IDs. The CNN will use the embeddings obtained by the CNN classifier predicting which type of machine the audio comes from. The embeddings of one of the layer of this CNN clf will be next used for machinery type specific autoencoders. Let's see if it could work that way. What I hope is that the embeddings will extract more precise features for each type of machine that could hopefully help to discern more between normal and anormal audio samples. "
   ]
  },
  {
   "cell_type": "code",
   "execution_count": null,
   "id": "07e64f8b",
   "metadata": {},
   "outputs": [],
   "source": [
    "#Data Generators using CNN clf type machinery\n",
    "#Keras datasets\n",
    "#Build hypermodel with repetition of layers and check which is the best\n",
    "#\n",
    "#\n",
    "#\n",
    "#\n",
    "#"
   ]
  }
 ],
 "metadata": {
  "kernelspec": {
   "display_name": "Python 3 (ipykernel)",
   "language": "python",
   "name": "python3"
  },
  "language_info": {
   "codemirror_mode": {
    "name": "ipython",
    "version": 3
   },
   "file_extension": ".py",
   "mimetype": "text/x-python",
   "name": "python",
   "nbconvert_exporter": "python",
   "pygments_lexer": "ipython3",
   "version": "3.8.13"
  }
 },
 "nbformat": 4,
 "nbformat_minor": 5
}
